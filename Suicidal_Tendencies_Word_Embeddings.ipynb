{
 "cells": [
  {
   "cell_type": "code",
   "execution_count": 6,
   "id": "75a5f675",
   "metadata": {},
   "outputs": [],
   "source": [
    "import sys\n",
    "\n",
    "import tensorflow\n",
    "import tensorflow_hub as hub\n",
    "import numpy as np\n",
    "import pandas as pd\n",
    "import gensim\n",
    "\n",
    "from tensorflow.keras.models import Sequential\n",
    "from tensorflow.keras.preprocessing.text import Tokenizer\n",
    "from tensorflow.keras.preprocessing.sequence import pad_sequences\n",
    "from tensorflow.python.keras import Input\n",
    "from tensorflow.python.keras.layers import Embedding, Bidirectional, Dense, LSTM, Dropout, InputLayer\n",
    "from tensorflow.python.keras.models import Model\n",
    "from tensorflow.keras.utils import plot_model\n",
    "\n",
    "from matplotlib import pyplot\n",
    "\n",
    "from gensim.models import Word2Vec\n",
    "from gensim.models.keyedvectors import KeyedVectors #load_word2vec_format\n",
    "from tqdm import tqdm\n",
    "\n",
    "num_words = 0"
   ]
  },
  {
   "cell_type": "code",
   "execution_count": 7,
   "id": "240fe9e6",
   "metadata": {},
   "outputs": [],
   "source": [
    "FileName = 'mensaje_limpio.csv'\n",
    "\n",
    "df = pd.read_csv(FileName,\n",
    "                 index_col=0,\n",
    "                 encoding='latin-1')\n",
    "\n",
    "XBOW = df['mensaje_clean'].values\n",
    "clases = df['clase'].values\n",
    "\n",
    "y_tr = np.zeros( (len(clases),1) )\n",
    "for i in range( len(y_tr) ):\n",
    "    y_tr[i] = clases[i]\n"
   ]
  },
  {
   "cell_type": "code",
   "execution_count": 8,
   "id": "bb23cb9f",
   "metadata": {},
   "outputs": [],
   "source": [
    "tokenizer = Tokenizer()\n",
    "tokenizer.fit_on_texts(XBOW)"
   ]
  },
  {
   "cell_type": "code",
   "execution_count": 9,
   "id": "4d8885f2",
   "metadata": {},
   "outputs": [
    {
     "name": "stdout",
     "output_type": "stream",
     "text": [
      "(382, 23)\n"
     ]
    }
   ],
   "source": [
    "def string_to_tensor(string_list):\n",
    "    string_list = tokenizer.texts_to_sequences(string_list)\n",
    "    string_list = pad_sequences(string_list, maxlen=max_len)\n",
    "    \n",
    "    return string_list\n",
    "\n",
    "# Creating the padded input for the deep learning model\n",
    "max_len = np.max([len(text.split()) for text in XBOW])\n",
    "X_train_tokens = string_to_tensor(XBOW)\n",
    "\n",
    "print( X_train_tokens.shape )"
   ]
  },
  {
   "cell_type": "code",
   "execution_count": 10,
   "id": "913a2807",
   "metadata": {},
   "outputs": [],
   "source": [
    "def load_word2vec():\n",
    "    word2vecDict = KeyedVectors.load_word2vec_format(\n",
    "        #'GoogleNews-vectors-negative300.bin',\n",
    "        'sbw_vectors.bin',\n",
    "        binary=True, unicode_errors='ignore')\n",
    "    embeddings_index = dict()\n",
    "    for word in word2vecDict.wv.vocab:\n",
    "        embeddings_index[word] = word2vecDict.word_vec(word)\n",
    "\n",
    "    return embeddings_index"
   ]
  },
  {
   "cell_type": "code",
   "execution_count": 11,
   "id": "2b58fb45",
   "metadata": {},
   "outputs": [],
   "source": [
    "tokenizer_obj=Tokenizer()\n",
    "word_index=tokenizer.word_index\n",
    "tokenizer.fit_on_texts(XBOW)\n",
    "sequences=tokenizer_obj.texts_to_sequences(XBOW)"
   ]
  },
  {
   "cell_type": "code",
   "execution_count": 12,
   "id": "123000cf",
   "metadata": {},
   "outputs": [],
   "source": [
    "def prepare_matrix(embedding_dict, emb_size=300):\n",
    "    num_words = len(word_index)\n",
    "    print(num_words)\n",
    "    embedding_matrix = np.zeros((num_words+1, emb_size))\n",
    "\n",
    "    for word, i in tqdm(word_index.items()):\n",
    "        emb_vec = embedding_dict.get(word)\n",
    "        if emb_vec is not None:\n",
    "            embedding_matrix[i] = emb_vec\n",
    "      \n",
    "    return embedding_matrix"
   ]
  },
  {
   "cell_type": "code",
   "execution_count": 13,
   "id": "572b4d69",
   "metadata": {},
   "outputs": [],
   "source": [
    "def new_model(embedding_matrix, max_len):\n",
    "    input_dim = len(word_index)\n",
    "    output_dim = len(embedding_matrix[1])\n",
    "    \n",
    "    print( input_dim, output_dim )    \n",
    "    \n",
    "    model = Sequential([\n",
    "        InputLayer(input_shape=(max_len,)),\n",
    "        Embedding(input_dim+1, output_dim, weights=[embedding_matrix], trainable=False),\n",
    "        Bidirectional(LSTM(256, return_sequences=True)),\n",
    "        Bidirectional(LSTM(150)),\n",
    "        Dense(128, activation=\"relu\"),\n",
    "        Dropout(0.1),\n",
    "        Dense(64, activation=\"relu\"),\n",
    "        Dense(1, activation=\"sigmoid\")        \n",
    "    ])\n",
    "\n",
    "    model.compile(loss = 'binary_crossentropy', optimizer = 'adam', metrics=['accuracy'])\n",
    "\n",
    "    return model"
   ]
  },
  {
   "cell_type": "code",
   "execution_count": 14,
   "id": "b0eed894",
   "metadata": {},
   "outputs": [
    {
     "name": "stderr",
     "output_type": "stream",
     "text": [
      "C:\\Users\\Marcos Martinez\\anaconda3\\envs\\tf-gpu\\lib\\site-packages\\ipykernel_launcher.py:7: DeprecationWarning: Call to deprecated `wv` (Attribute will be removed in 4.0.0, use self instead).\n",
      "  import sys\n"
     ]
    }
   ],
   "source": [
    "embeddings_index=load_word2vec()"
   ]
  },
  {
   "cell_type": "code",
   "execution_count": 15,
   "id": "a1505247",
   "metadata": {},
   "outputs": [
    {
     "name": "stdout",
     "output_type": "stream",
     "text": [
      "1120\n"
     ]
    },
    {
     "name": "stderr",
     "output_type": "stream",
     "text": [
      "100%|██████████████████████████████████████████████████████████████████████████| 1120/1120 [00:00<00:00, 370533.24it/s]"
     ]
    },
    {
     "name": "stdout",
     "output_type": "stream",
     "text": [
      "1120 300\n"
     ]
    },
    {
     "name": "stderr",
     "output_type": "stream",
     "text": [
      "\n"
     ]
    }
   ],
   "source": [
    "embedding_matrix=prepare_matrix(embeddings_index)\n",
    "embedding_matrix\n",
    "model=new_model(embedding_matrix, max_len)"
   ]
  },
  {
   "cell_type": "code",
   "execution_count": 16,
   "id": "b6c337fb",
   "metadata": {},
   "outputs": [],
   "source": [
    "X_train, X_test, y_train, y_test = train_test_split( X_train_tokens, y_tr, test_size=0.20, random_state=1)"
   ]
  },
  {
   "cell_type": "code",
   "execution_count": 17,
   "id": "75f5fc30",
   "metadata": {},
   "outputs": [
    {
     "name": "stdout",
     "output_type": "stream",
     "text": [
      "Epoch 1/20\n",
      "10/10 - 2s - loss: 0.6667 - accuracy: 0.5967\n",
      "Epoch 2/20\n",
      "10/10 - 3s - loss: 0.4948 - accuracy: 0.8033\n",
      "Epoch 3/20\n",
      "10/10 - 2s - loss: 0.4392 - accuracy: 0.8230\n",
      "Epoch 4/20\n",
      "10/10 - 2s - loss: 0.3413 - accuracy: 0.8754\n",
      "Epoch 5/20\n",
      "10/10 - 3s - loss: 0.2461 - accuracy: 0.8984\n",
      "Epoch 6/20\n",
      "10/10 - 3s - loss: 0.2199 - accuracy: 0.9213\n",
      "Epoch 7/20\n",
      "10/10 - 2s - loss: 0.1379 - accuracy: 0.9443\n",
      "Epoch 8/20\n",
      "10/10 - 3s - loss: 0.2125 - accuracy: 0.9115\n",
      "Epoch 9/20\n",
      "10/10 - 3s - loss: 0.0991 - accuracy: 0.9607\n",
      "Epoch 10/20\n",
      "10/10 - 2s - loss: 0.0995 - accuracy: 0.9705\n",
      "Epoch 11/20\n",
      "10/10 - 2s - loss: 0.1380 - accuracy: 0.9508\n",
      "Epoch 12/20\n",
      "10/10 - 3s - loss: 0.0842 - accuracy: 0.9639\n",
      "Epoch 13/20\n",
      "10/10 - 3s - loss: 0.0611 - accuracy: 0.9770\n",
      "Epoch 14/20\n",
      "10/10 - 3s - loss: 0.0803 - accuracy: 0.9574\n",
      "Epoch 15/20\n",
      "10/10 - 2s - loss: 0.0504 - accuracy: 0.9738\n",
      "Epoch 16/20\n",
      "10/10 - 3s - loss: 0.0543 - accuracy: 0.9770\n",
      "Epoch 17/20\n",
      "10/10 - 3s - loss: 0.0252 - accuracy: 0.9869\n",
      "Epoch 18/20\n",
      "10/10 - 3s - loss: 0.0085 - accuracy: 1.0000\n",
      "Epoch 19/20\n",
      "10/10 - 3s - loss: 0.0156 - accuracy: 0.9967\n",
      "Epoch 20/20\n",
      "10/10 - 2s - loss: 0.0095 - accuracy: 0.9967\n"
     ]
    }
   ],
   "source": [
    "history = model.fit( X_train, y_train, epochs=20, verbose=2)"
   ]
  },
  {
   "cell_type": "code",
   "execution_count": 18,
   "id": "2ef48c6a",
   "metadata": {},
   "outputs": [
    {
     "name": "stdout",
     "output_type": "stream",
     "text": [
      "('Failed to import pydot. You must `pip install pydot` and install graphviz (https://graphviz.gitlab.io/download/), ', 'for `pydotprint` to work.')\n"
     ]
    },
    {
     "data": {
      "image/png": "[encoded data removed]",
      "text/plain": [
       "<Figure size 432x288 with 1 Axes>"
      ]
     },
     "metadata": {
      "needs_background": "light"
     },
     "output_type": "display_data"
    }
   ],
   "source": [
    "plot_model(model, 'autoencoder_no_compress.png', show_shapes=True)\n",
    "pyplot.plot(history.history['accuracy'], label='train')\n",
    "pyplot.legend()\n",
    "pyplot.show()"
   ]
  },
  {
   "cell_type": "code",
   "execution_count": 19,
   "id": "420cf96c",
   "metadata": {},
   "outputs": [],
   "source": [
    "no_suicida = ['quiero vivir mucho'] #Clase 0\n",
    "suicida = ['este es mi segudno intento de suicidio'] #Clase 1"
   ]
  },
  {
   "cell_type": "code",
   "execution_count": 20,
   "id": "0dfa5d1b",
   "metadata": {},
   "outputs": [],
   "source": [
    "no_suicida_nn = string_to_tensor(no_suicida)\n",
    "suicida_nn = string_to_tensor(suicida)"
   ]
  },
  {
   "cell_type": "code",
   "execution_count": 21,
   "id": "264b5c5a",
   "metadata": {},
   "outputs": [],
   "source": [
    "p_no_suicida = model.predict(no_suicida_nn)[0][0]\n",
    "p_suicida = model.predict(suicida_nn)[0][0]"
   ]
  },
  {
   "cell_type": "code",
   "execution_count": 22,
   "id": "ba6aacd1",
   "metadata": {},
   "outputs": [
    {
     "name": "stdout",
     "output_type": "stream",
     "text": [
      "No suicida:  0.99996173\n",
      "Suicida:  0.9999964\n"
     ]
    }
   ],
   "source": [
    "print(\"No suicida: \", p_no_suicida)\n",
    "print(\"Suicida: \", p_suicida)"
   ]
  },
  {
   "cell_type": "code",
   "execution_count": 23,
   "id": "346f9084",
   "metadata": {},
   "outputs": [
    {
     "name": "stdout",
     "output_type": "stream",
     "text": [
      "WARNING:tensorflow:From <ipython-input-23-e05e07f3fb3e>:4: Sequential.predict_classes (from tensorflow.python.keras.engine.sequential) is deprecated and will be removed after 2021-01-01.\n",
      "Instructions for updating:\n",
      "Please use instead:* `np.argmax(model.predict(x), axis=-1)`,   if your model does multi-class classification   (e.g. if it uses a `softmax` last-layer activation).* `(model.predict(x) > 0.5).astype(\"int32\")`,   if your model does binary classification   (e.g. if it uses a `sigmoid` last-layer activation).\n",
      "              precision    recall  f1-score   support\n",
      "\n",
      "         0.0       0.69      0.75      0.72        36\n",
      "         1.0       0.76      0.71      0.73        41\n",
      "\n",
      "    accuracy                           0.73        77\n",
      "   macro avg       0.73      0.73      0.73        77\n",
      "weighted avg       0.73      0.73      0.73        77\n",
      "\n"
     ]
    }
   ],
   "source": [
    "# predict probabilities for test set\n",
    "yhat_probs = model.predict(X_test, verbose=0)\n",
    "# predict crisp classes for test set\n",
    "yhat_classes = model.predict_classes(X_test, verbose=0)\n",
    "\n",
    "\n",
    "# reduce to 1d array\n",
    "yhat_probs = yhat_probs[:, 0]\n",
    "yhat_classes = yhat_classes[:, 0]\n",
    "\n",
    "#print( yhat_classes )\n",
    "\n",
    "print(classification_report(y_test, yhat_classes))\n",
    "\n",
    "\n"
   ]
  },
  {
   "cell_type": "code",
   "execution_count": 24,
   "id": "c33a8f95",
   "metadata": {},
   "outputs": [
    {
     "name": "stdout",
     "output_type": "stream",
     "text": [
      "Accuracy: 0.727273\n",
      "Precision: 0.763158\n",
      "Recall: 0.707317\n",
      "F1 score: 0.734177\n"
     ]
    }
   ],
   "source": [
    "# accuracy: (tp + tn) / (p + n)\n",
    "accuracy = accuracy_score(y_test, yhat_classes)\n",
    "print('Accuracy: %f' % accuracy)\n",
    "# precision tp / (tp + fp)\n",
    "precision = precision_score(y_test, yhat_classes)\n",
    "print('Precision: %f' % precision)\n",
    "# recall: tp / (tp + fn)\n",
    "recall = recall_score(y_test, yhat_classes)\n",
    "print('Recall: %f' % recall)\n",
    "# f1: 2 tp / (2 tp + fp + fn)\n",
    "f1 = f1_score(y_test, yhat_classes)\n",
    "print('F1 score: %f' % f1)"
   ]
  },
  {
   "cell_type": "code",
   "execution_count": null,
   "id": "4622e7ae",
   "metadata": {},
   "outputs": [],
   "source": []
  }
 ],
 "metadata": {
  "kernelspec": {
   "display_name": "Python 3",
   "language": "python",
   "name": "python3"
  },
  "language_info": {
   "codemirror_mode": {
    "name": "ipython",
    "version": 3
   },
   "file_extension": ".py",
   "mimetype": "text/x-python",
   "name": "python",
   "nbconvert_exporter": "python",
   "pygments_lexer": "ipython3",
   "version": "3.6.13"
  }
 },
 "nbformat": 4,
 "nbformat_minor": 5
}
